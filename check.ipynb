{
  "cells": [
    {
      "cell_type": "code",
      "execution_count": 3,
      "metadata": {
        "colab": {
          "base_uri": "https://localhost:8080/",
          "height": 472
        },
        "id": "C5ZT8aRRhya2",
        "outputId": "aa23fd41-fa52-4812-cfc5-fe5937dd0075"
      },
      "outputs": [
        {
          "data": {
            "image/png": "[encoded data removed]",
            "text/plain": [
              "<Figure size 640x480 with 1 Axes>"
            ]
          },
          "metadata": {},
          "output_type": "display_data"
        }
      ],
      "source": [
        "# ml (linear regression)\n",
        "import numpy as np\n",
        "from sklearn.model_selection import train_test_split\n",
        "from sklearn.linear_model import LinearRegression\n",
        "import matplotlib.pyplot as plt\n",
        "\n",
        "np.random.seed(0)\n",
        "X = 2 * np.random.rand(100, 1)\n",
        "y = 4 + 3 * X + np.random.randn(100, 1)\n",
        "\n",
        "X_train, X_test, y_train, y_test = train_test_split(X, y, test_size=0.2, random_state=42)\n",
        "\n",
        "model = LinearRegression()\n",
        "model.fit(X_train, y_train)\n",
        "\n",
        "y_pred = model.predict(X_test)\n",
        "\n",
        "plt.scatter(X_test, y_test, color='blue')\n",
        "plt.plot(X_test, y_pred, color='red', linewidth=2)\n",
        "plt.title('Linear Regression Model')\n",
        "plt.xlabel('X')\n",
        "plt.ylabel('y')\n",
        "plt.show()"
      ]
    },
    {
      "cell_type": "code",
      "execution_count": 2,
      "metadata": {
        "colab": {
          "base_uri": "https://localhost:8080/"
        },
        "id": "RePhnAN7hsaZ",
        "outputId": "b10264bb-a717-411d-ce6f-6c7be30b2d2a"
      },
      "outputs": [
        {
          "name": "stdout",
          "output_type": "stream",
          "text": [
            "Epoch 1/10\n",
            "25/25 [==============================] - 1s 11ms/step - loss: 0.7031 - accuracy: 0.4800 - val_loss: 0.7023 - val_accuracy: 0.4950\n",
            "Epoch 2/10\n",
            "25/25 [==============================] - 0s 4ms/step - loss: 0.6893 - accuracy: 0.5263 - val_loss: 0.7067 - val_accuracy: 0.4850\n",
            "Epoch 3/10\n",
            "25/25 [==============================] - 0s 4ms/step - loss: 0.6841 - accuracy: 0.5475 - val_loss: 0.7102 - val_accuracy: 0.4650\n",
            "Epoch 4/10\n",
            "25/25 [==============================] - 0s 5ms/step - loss: 0.6831 - accuracy: 0.5600 - val_loss: 0.7120 - val_accuracy: 0.4600\n",
            "Epoch 5/10\n",
            "25/25 [==============================] - 0s 4ms/step - loss: 0.6751 - accuracy: 0.5850 - val_loss: 0.7139 - val_accuracy: 0.4450\n",
            "Epoch 6/10\n",
            "25/25 [==============================] - 0s 5ms/step - loss: 0.6715 - accuracy: 0.5925 - val_loss: 0.7126 - val_accuracy: 0.4500\n",
            "Epoch 7/10\n",
            "25/25 [==============================] - 0s 4ms/step - loss: 0.6673 - accuracy: 0.5987 - val_loss: 0.7137 - val_accuracy: 0.4750\n",
            "Epoch 8/10\n",
            "25/25 [==============================] - 0s 4ms/step - loss: 0.6649 - accuracy: 0.6062 - val_loss: 0.7176 - val_accuracy: 0.4800\n",
            "Epoch 9/10\n",
            "25/25 [==============================] - 0s 4ms/step - loss: 0.6613 - accuracy: 0.6162 - val_loss: 0.7159 - val_accuracy: 0.4900\n",
            "Epoch 10/10\n",
            "25/25 [==============================] - 0s 5ms/step - loss: 0.6567 - accuracy: 0.6288 - val_loss: 0.7161 - val_accuracy: 0.4800\n",
            "7/7 [==============================] - 0s 3ms/step - loss: 0.7161 - accuracy: 0.4800\n",
            "Test Loss: 0.7161121964454651, Test Accuracy: 0.47999998927116394\n"
          ]
        }
      ],
      "source": [
        "# deep learning\n",
        "import numpy as np\n",
        "import tensorflow as tf\n",
        "from tensorflow.keras.models import Sequential\n",
        "from tensorflow.keras.layers import Dense\n",
        "from sklearn.model_selection import train_test_split\n",
        "\n",
        "np.random.seed(0)\n",
        "X = np.random.randn(1000, 10)\n",
        "y = np.random.randint(2, size=(1000, 1))\n",
        "\n",
        "X_train, X_test, y_train, y_test = train_test_split(X, y, test_size=0.2, random_state=42)\n",
        "\n",
        "model = Sequential([\n",
        "    Dense(64, input_shape=(10,), activation='relu'),\n",
        "    Dense(32, activation='relu'),\n",
        "    Dense(1, activation='sigmoid')\n",
        "])\n",
        "\n",
        "model.compile(optimizer='adam',\n",
        "              loss='binary_crossentropy',\n",
        "              metrics=['accuracy'])\n",
        "\n",
        "model.fit(X_train, y_train, epochs=10, batch_size=32, validation_data=(X_test, y_test))\n",
        "\n",
        "loss, accuracy = model.evaluate(X_test, y_test)\n",
        "print(f'Test Loss: {loss}, Test Accuracy: {accuracy}')"
      ]
    },
    {
      "cell_type": "code",
      "execution_count": 1,
      "metadata": {
        "colab": {
          "base_uri": "https://localhost:8080/"
        },
        "id": "OSwRerWLhO92",
        "outputId": "e8e28647-aca9-461d-c317-a7569b7898b2"
      },
      "outputs": [
        {
          "name": "stdout",
          "output_type": "stream",
          "text": [
            "Epoch 1/10\n",
            "3/3 [==============================] - 15s 2s/step - loss: 0.6978 - accuracy: 0.0000e+00 - val_loss: 0.6819 - val_accuracy: 1.0000\n",
            "Epoch 2/10\n",
            "3/3 [==============================] - 0s 36ms/step - loss: 0.6888 - accuracy: 0.6667 - val_loss: 0.6888 - val_accuracy: 1.0000\n",
            "Epoch 3/10\n",
            "3/3 [==============================] - 0s 41ms/step - loss: 0.6825 - accuracy: 1.0000 - val_loss: 0.6963 - val_accuracy: 0.0000e+00\n",
            "Epoch 4/10\n",
            "3/3 [==============================] - 0s 34ms/step - loss: 0.6732 - accuracy: 1.0000 - val_loss: 0.7014 - val_accuracy: 0.0000e+00\n",
            "Epoch 5/10\n",
            "3/3 [==============================] - 0s 28ms/step - loss: 0.6672 - accuracy: 1.0000 - val_loss: 0.7097 - val_accuracy: 0.0000e+00\n",
            "Epoch 6/10\n",
            "3/3 [==============================] - 0s 29ms/step - loss: 0.6558 - accuracy: 1.0000 - val_loss: 0.7163 - val_accuracy: 0.0000e+00\n",
            "Epoch 7/10\n",
            "3/3 [==============================] - 0s 25ms/step - loss: 0.6456 - accuracy: 1.0000 - val_loss: 0.7248 - val_accuracy: 0.0000e+00\n",
            "Epoch 8/10\n",
            "3/3 [==============================] - 0s 31ms/step - loss: 0.6361 - accuracy: 1.0000 - val_loss: 0.7383 - val_accuracy: 0.0000e+00\n",
            "Epoch 9/10\n",
            "3/3 [==============================] - 0s 19ms/step - loss: 0.6216 - accuracy: 1.0000 - val_loss: 0.7553 - val_accuracy: 0.0000e+00\n",
            "Epoch 10/10\n",
            "3/3 [==============================] - 0s 19ms/step - loss: 0.6003 - accuracy: 1.0000 - val_loss: 0.7744 - val_accuracy: 0.0000e+00\n",
            "1/1 [==============================] - 1s 536ms/step - loss: 0.7744 - accuracy: 0.0000e+00\n",
            "Test Loss: 0.7743619084358215, Test Accuracy: 0.0\n"
          ]
        }
      ],
      "source": [
        "# nlp (sentiment analysis)\n",
        "import numpy as np\n",
        "import tensorflow as tf\n",
        "from tensorflow.keras.models import Sequential\n",
        "from tensorflow.keras.layers import Embedding, LSTM, Dense\n",
        "from tensorflow.keras.preprocessing.text import Tokenizer\n",
        "from tensorflow.keras.preprocessing.sequence import pad_sequences\n",
        "from sklearn.model_selection import train_test_split\n",
        "\n",
        "texts = [\"I love this movie!\",\n",
        "         \"This movie is terrible.\",\n",
        "         \"The acting was amazing.\",\n",
        "         \"The plot was confusing.\"]\n",
        "\n",
        "labels = np.array([1, 0, 1, 0])\n",
        "\n",
        "tokenizer = Tokenizer()\n",
        "tokenizer.fit_on_texts(texts)\n",
        "sequences = tokenizer.texts_to_sequences(texts)\n",
        "max_length = max([len(seq) for seq in sequences])\n",
        "padded_sequences = pad_sequences(sequences, maxlen=max_length, padding='post')\n",
        "\n",
        "X_train, X_test, y_train, y_test = train_test_split(padded_sequences, labels, test_size=0.2, random_state=42)\n",
        "\n",
        "model = Sequential([\n",
        "    Embedding(input_dim=len(tokenizer.word_index)+1, output_dim=64, input_length=max_length),\n",
        "    LSTM(64),\n",
        "    Dense(1, activation='sigmoid')\n",
        "])\n",
        "\n",
        "model.compile(optimizer='adam',\n",
        "              loss='binary_crossentropy',\n",
        "              metrics=['accuracy'])\n",
        "\n",
        "model.fit(X_train, y_train, epochs=10, batch_size=1, validation_data=(X_test, y_test))\n",
        "\n",
        "loss, accuracy = model.evaluate(X_test, y_test)\n",
        "print(f'Test Loss: {loss}, Test Accuracy: {accuracy}')"
      ]
    }
  ],
  "metadata": {
    "colab": {
      "provenance": []
    },
    "kernelspec": {
      "display_name": "Python 3",
      "name": "python3"
    },
    "language_info": {
      "name": "python"
    }
  },
  "nbformat": 4,
  "nbformat_minor": 0
}
